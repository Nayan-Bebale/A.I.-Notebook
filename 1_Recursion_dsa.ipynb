{
  "nbformat": 4,
  "nbformat_minor": 0,
  "metadata": {
    "colab": {
      "provenance": [],
      "authorship_tag": "ABX9TyOQ06dnU8zGlqrRqxMpNJB/",
      "include_colab_link": true
    },
    "kernelspec": {
      "name": "python3",
      "display_name": "Python 3"
    },
    "language_info": {
      "name": "python"
    }
  },
  "cells": [
    {
      "cell_type": "markdown",
      "metadata": {
        "id": "view-in-github",
        "colab_type": "text"
      },
      "source": [
        "<a href=\"https://colab.research.google.com/github/Nayan-Bebale/A.I.-Notebook/blob/main/1_Recursion_dsa.ipynb\" target=\"_parent\"><img src=\"https://colab.research.google.com/assets/colab-badge.svg\" alt=\"Open In Colab\"/></a>"
      ]
    },
    {
      "cell_type": "markdown",
      "source": [
        "# RECURSION\n"
      ],
      "metadata": {
        "id": "7ioJcIom5_0P"
      }
    },
    {
      "cell_type": "code",
      "source": [
        "def factorial(n):\n",
        "  assert n >= 0  and int(n) == n, 'Factorial number must be positive and integer'\n",
        "  if n in [0, 1]:\n",
        "    return n\n",
        "  else:\n",
        "    return n * factorial(n-1)\n",
        "\n",
        "factorial(5)"
      ],
      "metadata": {
        "colab": {
          "base_uri": "https://localhost:8080/"
        },
        "id": "cAoUSlK7p2hu",
        "outputId": "2659f0ae-0361-4b78-db79-ab1ac3d3eee4"
      },
      "execution_count": null,
      "outputs": [
        {
          "output_type": "execute_result",
          "data": {
            "text/plain": [
              "120"
            ]
          },
          "metadata": {},
          "execution_count": 3
        }
      ]
    },
    {
      "cell_type": "code",
      "source": [
        "def fibonacci(n):\n",
        "  assert n >= 0  and int(n) == n, 'Fibonacci number must be positive and integer'\n",
        "  if n in [0, 1]:\n",
        "    return n\n",
        "  else:\n",
        "    return fibonacci(n-1) + fibonacci(n-2)\n",
        "\n",
        "number = 10\n",
        "for i in range(0,number):\n",
        "  print(fibonacci(i), end=' ')"
      ],
      "metadata": {
        "colab": {
          "base_uri": "https://localhost:8080/"
        },
        "id": "1uemCGdVf704",
        "outputId": "81d73768-7b63-4af0-de58-9c50bb6d8cfe"
      },
      "execution_count": null,
      "outputs": [
        {
          "output_type": "stream",
          "name": "stdout",
          "text": [
            "0 1 1 2 3 5 8 13 21 34 "
          ]
        }
      ]
    },
    {
      "cell_type": "markdown",
      "source": [
        "Write a Python program to calculate the sum of a list of numbers using recursion."
      ],
      "metadata": {
        "id": "Od7TJpGP6IIE"
      }
    },
    {
      "cell_type": "code",
      "source": [
        "def lisSum(lisnum):\n",
        "  if len(lisnum) == 1:\n",
        "    return lisnum[0]\n",
        "  else:\n",
        "    return lisnum[0] + lisSum(lisnum[1:])\n",
        "\n",
        "print(lisSum([1, 2, 3, 4, 5]))"
      ],
      "metadata": {
        "colab": {
          "base_uri": "https://localhost:8080/"
        },
        "id": "H11o3k_PrCA9",
        "outputId": "ed02f6b8-5b6b-403b-ff70-4ef4afa25e55"
      },
      "execution_count": null,
      "outputs": [
        {
          "output_type": "stream",
          "name": "stdout",
          "text": [
            "15\n"
          ]
        }
      ]
    },
    {
      "cell_type": "markdown",
      "source": [
        "Write a Python program to sum recursion lists using recursion.\n",
        "Test Data: [1, 2, [3,4], [5,6]]\n",
        "Expected Result: 21"
      ],
      "metadata": {
        "id": "EJ3pJRWHrm2v"
      }
    },
    {
      "cell_type": "code",
      "source": [
        "def lisSum(lisnum):\n",
        "    if len(lisnum) == 1:\n",
        "        if isinstance(lisnum[0], list):\n",
        "            # If the only element is a list, recursively call lisSum on that list\n",
        "            return lisSum(lisnum[0])\n",
        "        else:\n",
        "            # If the only element is a number, return the number\n",
        "            return lisnum[0]\n",
        "    else:\n",
        "        # Sum the first element (handled by inerlis) and recursively call lisSum on the rest\n",
        "        return inerlis(lisnum[0]) + lisSum(lisnum[1:])\n",
        "\n",
        "def inerlis(innum):\n",
        "    if isinstance(innum, int):\n",
        "        # If the element is a number, return the number\n",
        "        return innum\n",
        "    elif isinstance(innum, list):\n",
        "        # If the element is a list, recursively call lisSum on that list\n",
        "        return lisSum(innum)\n",
        "\n",
        "# Test Data\n",
        "input_list = [[3, 4], 2, [3, 4], [5, 6]]\n",
        "\n",
        "result = lisSum(input_list)\n",
        "print(result)\n"
      ],
      "metadata": {
        "colab": {
          "base_uri": "https://localhost:8080/"
        },
        "id": "nJ358X5MrwqJ",
        "outputId": "2b816574-904c-440a-def4-2d9ade7d9c75"
      },
      "execution_count": null,
      "outputs": [
        {
          "output_type": "stream",
          "name": "stdout",
          "text": [
            "27\n"
          ]
        }
      ]
    },
    {
      "cell_type": "code",
      "source": [
        "def sumlist(lisnum):\n",
        "  total = 0\n",
        "  for i in lisnum:\n",
        "    if isinstance(i , list):\n",
        "      total += sumlist(i)\n",
        "    else:\n",
        "      total += i\n",
        "  return total\n",
        "\n",
        "print(sumlist([[3, 4], 2, [3, 4], [5, 6]]))"
      ],
      "metadata": {
        "colab": {
          "base_uri": "https://localhost:8080/"
        },
        "id": "o_ChJLqEwlD1",
        "outputId": "36563b7a-3d6e-4237-9cda-7351694c9961"
      },
      "execution_count": null,
      "outputs": [
        {
          "output_type": "stream",
          "name": "stdout",
          "text": [
            "27\n"
          ]
        }
      ]
    },
    {
      "cell_type": "markdown",
      "source": [
        "6. Write a Python program to get the sum of a non-negative integer using recursion.\n",
        "\n",
        "Test Data:\n",
        "\n",
        "sumDigits(345) -> 12\n",
        "\n",
        "sumDigits(45) -> 9"
      ],
      "metadata": {
        "id": "08M8QcDXzr_m"
      }
    },
    {
      "cell_type": "code",
      "source": [
        "def sumDigits(num):\n",
        "  numstr = str(num)\n",
        "  if len(numstr) == 1:\n",
        "    return int(numstr)\n",
        "  else:\n",
        "    return int(numstr[0]) + int(sumDigits(numstr[1:]))\n",
        "\n",
        "\n",
        "sumDigits(53232)"
      ],
      "metadata": {
        "colab": {
          "base_uri": "https://localhost:8080/"
        },
        "id": "13Vb_ZBez2PD",
        "outputId": "bbba2588-ca33-4cb4-b0a5-be385bfa4c17"
      },
      "execution_count": null,
      "outputs": [
        {
          "output_type": "execute_result",
          "data": {
            "text/plain": [
              "15"
            ]
          },
          "metadata": {},
          "execution_count": 78
        }
      ]
    },
    {
      "cell_type": "code",
      "source": [
        "# def SumDigits(n):\n",
        "#   assert n >= 0  and int(n) == n, 'Number must be positive and integer'\n",
        "#   temp = n//10\n",
        "#   modus = n%10\n",
        "#   if temp == 0:\n",
        "#     return modus\n",
        "#   else:\n",
        "#     return modus+SumDigits(temp)\n",
        "\n",
        "# print(SumDigits(11))\n",
        "\n",
        "\n",
        "def SumDigits(n):\n",
        "  assert n >= 0  and int(n) == n, 'Number must be positive and integer'\n",
        "  if n == 0:\n",
        "    return n\n",
        "  else:\n",
        "    return n%10+SumDigits(n//10)\n",
        "\n",
        "print(SumDigits(1197))\n",
        "\n"
      ],
      "metadata": {
        "colab": {
          "base_uri": "https://localhost:8080/"
        },
        "id": "4nEF5qWTG0NT",
        "outputId": "bb0379f6-f0fb-40cf-9d6f-e906efd106ae"
      },
      "execution_count": null,
      "outputs": [
        {
          "output_type": "stream",
          "name": "stdout",
          "text": [
            "18\n"
          ]
        }
      ]
    },
    {
      "cell_type": "markdown",
      "source": [
        "how to calculate power of a number using recursion"
      ],
      "metadata": {
        "id": "bNdZ5X-HLR8G"
      }
    },
    {
      "cell_type": "code",
      "source": [
        "def power(n, pow):\n",
        "  assert pow >= 0  and int(pow) == pow, 'Number must be positive and integer'\n",
        "  if pow == 0:\n",
        "    return n//n\n",
        "  else:\n",
        "    return n*power(n, pow-1)\n",
        "\n",
        "print(power(5, 3))"
      ],
      "metadata": {
        "colab": {
          "base_uri": "https://localhost:8080/"
        },
        "id": "sxFTkrZ0LcP8",
        "outputId": "12d4daff-0af0-422e-a355-d976fac100ce"
      },
      "execution_count": null,
      "outputs": [
        {
          "output_type": "stream",
          "name": "stdout",
          "text": [
            "125\n"
          ]
        }
      ]
    },
    {
      "cell_type": "markdown",
      "source": [
        "How to find GCD (Greatest Common Divisor) of two numbers using recursion?"
      ],
      "metadata": {
        "id": "jxxmXOaFYCl1"
      }
    },
    {
      "cell_type": "code",
      "source": [
        "def GCD(num1, num2):\n",
        "  if num2 == 0:\n",
        "    return num1\n",
        "  else:\n",
        "    return GCD(num2, num1%num2)\n",
        "\n",
        "print(GCD(45, 30))"
      ],
      "metadata": {
        "colab": {
          "base_uri": "https://localhost:8080/"
        },
        "id": "-hV6K8hJYWyc",
        "outputId": "dd3ddea9-e322-4172-aa87-17dc6f2f87d6"
      },
      "execution_count": null,
      "outputs": [
        {
          "output_type": "stream",
          "name": "stdout",
          "text": [
            "15\n"
          ]
        }
      ]
    },
    {
      "cell_type": "markdown",
      "source": [
        "how to convert a number from Decimal to Binary using recursion"
      ],
      "metadata": {
        "id": "wahheyHFdsT0"
      }
    },
    {
      "cell_type": "code",
      "source": [
        "def DeciToBinary(n):\n",
        "  assert int(n) == n, 'The parameter must be an integer only!'\n",
        "  if n == 0:\n",
        "    return 0\n",
        "  else:\n",
        "    return n%2 + 10 * DeciToBinary(int(n/2))\n",
        "\n",
        "\n",
        "# s = ''\n",
        "\n",
        "# def DeciToBinary(n):\n",
        "#   global s\n",
        "#   rem = n%2\n",
        "#   n //= 2\n",
        "#   s = str(rem) + s\n",
        "#   if n == 0:\n",
        "#     return s\n",
        "#   else:\n",
        "#     return DeciToBinary(n)\n",
        "\n",
        "print(DeciToBinary(35))"
      ],
      "metadata": {
        "colab": {
          "base_uri": "https://localhost:8080/"
        },
        "id": "A0LfFw2mdtn3",
        "outputId": "3c78a5e2-c02e-4e57-bd33-bce77423f791"
      },
      "execution_count": null,
      "outputs": [
        {
          "output_type": "stream",
          "name": "stdout",
          "text": [
            "100011\n"
          ]
        }
      ]
    },
    {
      "cell_type": "code",
      "source": [
        "def check():\n",
        "  return isinstance([2, 3], int)\n",
        "\n",
        "check()"
      ],
      "metadata": {
        "colab": {
          "base_uri": "https://localhost:8080/"
        },
        "id": "2SwbTckAt9ZU",
        "outputId": "31277c29-ff7c-464d-9122-c1633114677e"
      },
      "execution_count": null,
      "outputs": [
        {
          "output_type": "execute_result",
          "data": {
            "text/plain": [
              "False"
            ]
          },
          "metadata": {},
          "execution_count": 35
        }
      ]
    },
    {
      "cell_type": "markdown",
      "source": [
        "Exciting News: Just earned my certification in \"Databases with Python: MySQL, SQLite & MongoDB\"!\n",
        "\n",
        "Thrilled to share that I've mastered the art of building and manipulating databases with Python, becoming proficient in SQL and NoSQL programming. <br>Here's a snapshot of what I've learned:\n",
        "<ul>\n",
        "<li>Built and Manipulated Databases with Python\n",
        "<li>Mastered SQL programming\n",
        "<li>Installed and used MySQL tools\n",
        "<li>Used MySQL seamlessly with Python\n",
        "<li>Created, inserted, updated, filtered, and deleted records, tables, and databases in SQL\n",
        "<li>Applied SQL Commands in Python without installing additional programs\n",
        "</ul>\n",
        "On the NoSQL front:\n",
        "<ul>\n",
        " <li>Used SQLite with Python\n",
        " <li>Mastered NoSQL programming\n",
        " <li>Installed and used MongoDB tools\n",
        " <li>Utilized MongoDB seamlessly with Python\n",
        " <li>Created, inserted, updated, filtered, and deleted <li>documents and collections in NoSQL\n",
        "</ul>\n",
        "Excited to apply these skills in real-world scenarios and contribute to data-driven solutions!\n",
        "\n",
        " #Python #Databases #MySQL #SQLite #MongoDB #NoSQL #DataManagement #CertificationAchieved #CodingJourney #TechSkills #SQLProgramming #DataManipulation #LinkedInLearning #TechCertification #PythonDeveloper"
      ],
      "metadata": {
        "id": "z3Pm-K4jvaGt"
      }
    },
    {
      "cell_type": "markdown",
      "source": [
        "## Bonus Challenging Recursions\n",
        "\n",
        "1. power\n",
        "2. factorial\n",
        "3. productofArray\n",
        "4. recursiveRange\n",
        "5. fib\n",
        "6. reverse\n",
        "7. isPalindrome\n",
        "8. someRecursive\n",
        "9. flatten\n",
        "10. captalizeFirst\n",
        "11. nestedEvenSum\n",
        "12. capatalizeWords\n",
        "13. stringifyNumbers\n",
        "14. collectStrings\n"
      ],
      "metadata": {
        "id": "nRf4hUFu15Gr"
      }
    },
    {
      "cell_type": "code",
      "source": [
        "def captalizeFirst(lest):\n",
        "  pass"
      ],
      "metadata": {
        "id": "_UoPUuBgPxjn"
      },
      "execution_count": null,
      "outputs": []
    },
    {
      "cell_type": "code",
      "source": [
        "def nestedEvenSum(dic, sum=0):\n",
        "  for key in dic:\n",
        "    if type(dic[key]) is dict:\n",
        "      sum += nestedEvenSum(dic[key])\n",
        "    elif type(dic[key]) is int and dic[key]%2 == 0:\n",
        "      sum += dic[key]\n",
        "  return sum\n",
        "\n",
        "print(nestedEvenSum(obj1))"
      ],
      "metadata": {
        "colab": {
          "base_uri": "https://localhost:8080/"
        },
        "id": "qbn64tX_KzhO",
        "outputId": "911f3cb3-54c5-4543-fcf2-5b87e085271d"
      },
      "execution_count": null,
      "outputs": [
        {
          "output_type": "stream",
          "name": "stdout",
          "text": [
            "6\n"
          ]
        }
      ]
    },
    {
      "cell_type": "code",
      "source": [
        "obj1 = {\n",
        "  \"outer\": 2,\n",
        "  \"obj\": {\n",
        "    \"inner\": 2,\n",
        "    \"otherObj\": {\n",
        "      \"superInner\": 2,\n",
        "      \"notANumber\": True,\n",
        "      \"alsoNotANumber\": \"yup\"\n",
        "    }\n",
        "  }\n",
        "}\n",
        "\n",
        "for key in obj1:\n",
        "  if type(obj1[key]) is dict:\n",
        "    pass\n",
        "  elif type(obj1[key]) is int:\n",
        "    pass\n",
        "# 6"
      ],
      "metadata": {
        "id": "37LuKU6OH_Xj"
      },
      "execution_count": null,
      "outputs": []
    },
    {
      "cell_type": "code",
      "source": [
        "new = 'deepak'\n",
        "print(new[1:-1:])\n",
        "start = new[0]\n",
        "end = new[-1]\n",
        "\n",
        "print(start, end)"
      ],
      "metadata": {
        "colab": {
          "base_uri": "https://localhost:8080/"
        },
        "id": "ydwslV-aBilh",
        "outputId": "858c6cbb-43b2-4a92-cb7a-7759f5f56b71"
      },
      "execution_count": null,
      "outputs": [
        {
          "output_type": "stream",
          "name": "stdout",
          "text": [
            "eepa\n",
            "d k\n"
          ]
        }
      ]
    },
    {
      "cell_type": "code",
      "source": [
        "# def isPalindrome(strng):\n",
        "#     if len(strng) == 0:\n",
        "#         return True\n",
        "#     if strng[0] != strng[len(strng)-1]:\n",
        "#         return False\n",
        "#     return isPalindrome(strng[1:-1])\n",
        "\n",
        "def isPalindrome(string):\n",
        "  assert str(string) == string, 'Words must be string'\n",
        "  if len(string) == 1 or len(string) == 0:\n",
        "    return 'Palindrom'\n",
        "  else:\n",
        "    start = string[0]\n",
        "    end = string[-1]\n",
        "    if start != end:\n",
        "      return 'Not Palindrom'\n",
        "    else:\n",
        "      return isPalindrome(string[1:-1:])\n",
        "\n",
        "print(isPalindrome('nayan'))\n",
        "print(isPalindrome('awesome')) # false\n",
        "print(isPalindrome('foobar')) # false\n",
        "print(isPalindrome('tacocat')) # true\n",
        "print(isPalindrome('amanaplanacanalpanama')) # true\n",
        "print(isPalindrome('amanaplanacanalpandemonium')) # false"
      ],
      "metadata": {
        "colab": {
          "base_uri": "https://localhost:8080/"
        },
        "id": "Cymo3Sq-CUGG",
        "outputId": "fa7da034-26f5-443c-b03d-1f61514b1ff5"
      },
      "execution_count": null,
      "outputs": [
        {
          "output_type": "stream",
          "name": "stdout",
          "text": [
            "Palindrom\n",
            "Not Palindrom\n",
            "Not Palindrom\n",
            "Palindrom\n",
            "Palindrom\n",
            "Not Palindrom\n"
          ]
        }
      ]
    },
    {
      "cell_type": "code",
      "source": [
        "def reverse(string):\n",
        "  if len(string) == 1:\n",
        "    return string[0]\n",
        "  else:\n",
        "    return reverse(string[1:]) + string[0]\n",
        "\n",
        "reverse('python')"
      ],
      "metadata": {
        "colab": {
          "base_uri": "https://localhost:8080/",
          "height": 35
        },
        "id": "xfUf7XRQ8h-m",
        "outputId": "6850970e-7d1e-4b27-9baf-534201f84b12"
      },
      "execution_count": null,
      "outputs": [
        {
          "output_type": "execute_result",
          "data": {
            "text/plain": [
              "'nohtyp'"
            ],
            "application/vnd.google.colaboratory.intrinsic+json": {
              "type": "string"
            }
          },
          "metadata": {},
          "execution_count": 28
        }
      ]
    },
    {
      "cell_type": "code",
      "source": [
        "# 5\n",
        "def fib(n):\n",
        "  if n in [0, 1]:\n",
        "    return n\n",
        "  else:\n",
        "    return fib(n-1) + fib(n-2)\n",
        "\n",
        "fib(7)"
      ],
      "metadata": {
        "colab": {
          "base_uri": "https://localhost:8080/"
        },
        "id": "ZwEL8uQ076Ue",
        "outputId": "b2dd996e-aba3-4ddc-afcc-4ec19881336c"
      },
      "execution_count": null,
      "outputs": [
        {
          "output_type": "execute_result",
          "data": {
            "text/plain": [
              "13"
            ]
          },
          "metadata": {},
          "execution_count": 16
        }
      ]
    },
    {
      "cell_type": "code",
      "source": [
        "# 4\n",
        "def recursiveRange(n):\n",
        "  if n <= 0:\n",
        "    return 0\n",
        "  else:\n",
        "    return n + recursiveRange(n-1)\n",
        "\n",
        "print(recursiveRange(100))"
      ],
      "metadata": {
        "colab": {
          "base_uri": "https://localhost:8080/"
        },
        "id": "xcyGtTmO5D-A",
        "outputId": "3195484c-ede7-4437-a656-c0d59e19ccb8"
      },
      "execution_count": null,
      "outputs": [
        {
          "output_type": "stream",
          "name": "stdout",
          "text": [
            "5050\n"
          ]
        }
      ]
    },
    {
      "cell_type": "code",
      "source": [
        "# 3\n",
        "def productofArray(arr):\n",
        "  if len(arr) == 1:\n",
        "    return arr[0]\n",
        "  else:\n",
        "    return arr[0] * productofArray(arr[1:])\n",
        "\n",
        "print(productofArray([1, 3, 4, 5]))"
      ],
      "metadata": {
        "colab": {
          "base_uri": "https://localhost:8080/"
        },
        "id": "fULuOzlf4MuC",
        "outputId": "d20ef122-da78-41e0-d345-ef79024b64f9"
      },
      "execution_count": null,
      "outputs": [
        {
          "output_type": "stream",
          "name": "stdout",
          "text": [
            "60\n"
          ]
        }
      ]
    },
    {
      "cell_type": "code",
      "source": [
        "# 2\n",
        "def factorial(n):\n",
        "  if n in [0, 1]:\n",
        "    return n\n",
        "  else:\n",
        "    return n * factorial(n-1)\n",
        "\n",
        "print(factorial(5))"
      ],
      "metadata": {
        "colab": {
          "base_uri": "https://localhost:8080/"
        },
        "id": "T8_ORa3-3WZK",
        "outputId": "98017a78-3356-4643-e2e1-e92d815dc14a"
      },
      "execution_count": null,
      "outputs": [
        {
          "output_type": "stream",
          "name": "stdout",
          "text": [
            "120\n"
          ]
        }
      ]
    },
    {
      "cell_type": "code",
      "source": [
        "numlis = [1, 2, [3,4], [5,6]]\n",
        "sum = 0\n",
        "for i in numlis:\n",
        "  if type(i) == int:\n",
        "    sum+=i\n",
        "  else:\n",
        "    for j in i:\n",
        "      sum += j\n",
        "\n",
        "print(sum)"
      ],
      "metadata": {
        "colab": {
          "base_uri": "https://localhost:8080/"
        },
        "id": "k1ArGmr56RNu",
        "outputId": "5981cd85-9823-4e99-c1a8-b715afc9a475"
      },
      "execution_count": null,
      "outputs": [
        {
          "output_type": "stream",
          "name": "stdout",
          "text": [
            "21\n"
          ]
        }
      ]
    },
    {
      "cell_type": "code",
      "execution_count": null,
      "metadata": {
        "id": "NcH8dSjhQDyo"
      },
      "outputs": [],
      "source": [
        "import sys"
      ]
    },
    {
      "cell_type": "code",
      "source": [
        "L = [1, 2, 3, 4, 5]\n",
        "L[1:]"
      ],
      "metadata": {
        "id": "jWTl6so265le",
        "colab": {
          "base_uri": "https://localhost:8080/"
        },
        "outputId": "b8de41e0-7c83-47be-c37c-005216824a8f"
      },
      "execution_count": null,
      "outputs": [
        {
          "output_type": "execute_result",
          "data": {
            "text/plain": [
              "[2, 3, 4, 5]"
            ]
          },
          "metadata": {},
          "execution_count": 1
        }
      ]
    },
    {
      "cell_type": "code",
      "source": [
        "L = []"
      ],
      "metadata": {
        "id": "MJztbUeMQK-o"
      },
      "execution_count": null,
      "outputs": []
    },
    {
      "cell_type": "code",
      "source": [
        "sys.getsizeof(L)"
      ],
      "metadata": {
        "colab": {
          "base_uri": "https://localhost:8080/"
        },
        "id": "0h5q1aKaQvGp",
        "outputId": "b77e1b47-f983-4bfb-d590-6592864146e4"
      },
      "execution_count": null,
      "outputs": [
        {
          "output_type": "execute_result",
          "data": {
            "text/plain": [
              "88"
            ]
          },
          "metadata": {},
          "execution_count": 9
        }
      ]
    },
    {
      "cell_type": "code",
      "source": [
        "L.append(\"me_and_you\")"
      ],
      "metadata": {
        "id": "NRQMOqewQ0kM"
      },
      "execution_count": null,
      "outputs": []
    },
    {
      "cell_type": "markdown",
      "source": [
        "<h2>Dynamic Array</h2>\n",
        "\n",
        "\n",
        "1.   Create List [D]\n",
        "2.   len  [D]\n",
        "3.   append [D]\n",
        "4.   print  [D]\n",
        "5.   indexing   [D]   \n",
        "6.   pop  [D]\n",
        "7.   clear  [D]\n",
        "8.   find   [D]\n",
        "9.   insert  [D]\n",
        "10.  delete  [D]\n",
        "11.  remove   [D]\n",
        "\n",
        "<h3>HomeWork</h3>\n",
        "<b>sort/min/max/sum\n",
        "<br>extend\n",
        "<br>negative indexing\n",
        "<br>slicing\n",
        "<br>merge</b>\n",
        "\n"
      ],
      "metadata": {
        "id": "6urru_eOU35j"
      }
    },
    {
      "cell_type": "markdown",
      "source": [
        "## Creating My own List"
      ],
      "metadata": {
        "id": "1XQa-huVRp67"
      }
    },
    {
      "cell_type": "code",
      "source": [
        "L = [1, 5, 2, 5, 6]\n"
      ],
      "metadata": {
        "id": "16-SmfJfi1i4"
      },
      "execution_count": null,
      "outputs": []
    },
    {
      "cell_type": "code",
      "source": [
        "L[-1]"
      ],
      "metadata": {
        "id": "R1_CO-AP7K1x",
        "outputId": "a86fac01-0ac5-4f79-a629-7be3e30580d8",
        "colab": {
          "base_uri": "https://localhost:8080/"
        }
      },
      "execution_count": null,
      "outputs": [
        {
          "output_type": "execute_result",
          "data": {
            "text/plain": [
              "6"
            ]
          },
          "metadata": {},
          "execution_count": 4
        }
      ]
    },
    {
      "cell_type": "code",
      "source": [
        "print(L)"
      ],
      "metadata": {
        "colab": {
          "base_uri": "https://localhost:8080/"
        },
        "id": "oUt-Ae3UoDUJ",
        "outputId": "5d386fe0-0a1c-469f-c20b-0f7c6dd009dc"
      },
      "execution_count": null,
      "outputs": [
        {
          "output_type": "stream",
          "name": "stdout",
          "text": [
            "[1, 2, 5, 5, 6]\n"
          ]
        }
      ]
    },
    {
      "cell_type": "code",
      "source": [
        "import ctypes"
      ],
      "metadata": {
        "id": "EuHeM2MnQ42R"
      },
      "execution_count": null,
      "outputs": []
    },
    {
      "cell_type": "markdown",
      "source": [
        "ctypes is a foreign function library for Python. It provides C compatible data types, and allows calling functions in DLLs or shared libraries. It can be used to wrap these libraries in pure Python."
      ],
      "metadata": {
        "id": "BtN3ogBjSBtr"
      }
    },
    {
      "cell_type": "code",
      "source": [
        "class MeraList:\n",
        "\n",
        "  def __init__(self):\n",
        "    self.size = 1\n",
        "    self.n = 0\n",
        "    # create a C type array with size = size.self\n",
        "    self.A = self.__make_array(self.size)\n",
        "\n",
        "  def __len__(self):\n",
        "    return self.n\n",
        "\n",
        "  def pop(self):\n",
        "    if self.n == 0:\n",
        "      return 'Empty List'\n",
        "    print(self.A[self.n-1])\n",
        "    self.n = self.n-1\n",
        "\n",
        "  def clear(self):\n",
        "    self.n = 0\n",
        "    self.size = 1\n",
        "    # for i in range(self.n):\n",
        "      # self.n = self.n-1\n",
        "\n",
        "  def index(self, num):\n",
        "    try:\n",
        "      print(self.A[num])\n",
        "    except IndexError:\n",
        "      print('Out of range')\n",
        "\n",
        "  def __delitem__(self, pos):\n",
        "    # delete method\n",
        "    if 0 <= pos < self.n:\n",
        "      for i in range(pos, self.n-1):\n",
        "        self.A[i] = self.A[i+1]\n",
        "\n",
        "    self.n = self.n - 1\n",
        "\n",
        "  def find(self, item):\n",
        "    for i in range(self.n):\n",
        "      if self.A[i] == item:\n",
        "        return i\n",
        "    else:\n",
        "      return 'ValueError: value not in list'\n",
        "\n",
        "  def sort(self):\n",
        "    sort_list = []\n",
        "    for i in range(self.n):\n",
        "      for j in range(i+1, self.n):\n",
        "        if self.A[i] >= self.A[j]:\n",
        "           self.A[i], self.A[j] = self.A[j], self.A[i]\n",
        "\n",
        "    for i in range(self.n):\n",
        "      sort_list.append(self.A[i])\n",
        "\n",
        "    return sort_list\n",
        "\n",
        "  def min(self):\n",
        "    sort_list = self.sort()\n",
        "    return sort_list[0]\n",
        "\n",
        "  def max(self):\n",
        "    sort_list = self.sort()\n",
        "    return sort_list[self.n-1]\n",
        "\n",
        "  def sum(self):\n",
        "    sum = 0\n",
        "    for i in range(self.n):\n",
        "      sum += self.A[i]\n",
        "\n",
        "    return sum\n",
        "\n",
        "  def remove(self, item):\n",
        "    pos = self.find(item)\n",
        "\n",
        "    if type(pos) == int:\n",
        "      # delete\n",
        "      self.__delitem__(pos)\n",
        "    else:\n",
        "      return pos\n",
        "\n",
        "  def insert(self, pos, item):\n",
        "    if self.n == self.size:\n",
        "      self.__resize(self.size*2)\n",
        "    # For reverse loop use -1\n",
        "    for i in range(self.n, pos, -1):\n",
        "      self.A[i] = self.A[i-1]\n",
        "\n",
        "    self.A[pos] = item\n",
        "    self.n = self.n + 1\n",
        "\n",
        "\n",
        "  def append(self, item):\n",
        "    if self.n == self.size:\n",
        "      # resize\n",
        "      self.__resize(self.size*2)\n",
        "\n",
        "    # append\n",
        "    self.A[self.n] = item\n",
        "    self.n = self.n + 1\n",
        "\n",
        "  def extend(self, list1):\n",
        "    for i in list1:\n",
        "      if self.n == self.size:\n",
        "        # resize\n",
        "        self.__resize(self.size*2)\n",
        "\n",
        "      # append\n",
        "      self.A[self.n] = i\n",
        "      self.n = self.n + 1\n",
        "\n",
        "\n",
        "  def __getitem__(self, index):\n",
        "    if 0 <= index < self.n:\n",
        "      return self.A[index]\n",
        "    elif -(self.n) < index < 0:\n",
        "      return self.A[self.n + (index)]\n",
        "    else:\n",
        "      return 'IndexError - Index out of range'\n",
        "\n",
        "  def __resize(self, new_capacity):\n",
        "    # create a new array with new capacity\n",
        "    B = self.__make_array(new_capacity)\n",
        "    self.size = new_capacity\n",
        "    # copy the content of A to B\n",
        "\n",
        "    for i in range(self.n):\n",
        "      B[i] = self.A[i]\n",
        "    # reassign A\n",
        "    self.A = B\n",
        "\n",
        "  def __str__(self):\n",
        "    # [1, 2, 4]\n",
        "    result = ''\n",
        "    for i in range(self.n):\n",
        "      result = result + str(self.A[i]) + ','\n",
        "\n",
        "    return '['+ result[:-1] +']'\n",
        "\n",
        "  def __make_array(self, capacity):\n",
        "    # create c type array(static, referential) with size capacity\n",
        "    return (capacity*ctypes.py_object)()\n"
      ],
      "metadata": {
        "id": "OCnw7SUZR0fN"
      },
      "execution_count": null,
      "outputs": []
    },
    {
      "cell_type": "code",
      "source": [
        "L = MeraList()"
      ],
      "metadata": {
        "id": "7AwjCpP1Up_h"
      },
      "execution_count": null,
      "outputs": []
    },
    {
      "cell_type": "code",
      "source": [
        "L.append(3)\n",
        "L.append(2)\n",
        "L.append(5)\n",
        "L.append(4)\n",
        "L.append(6)"
      ],
      "metadata": {
        "id": "yTrNwJpyWnxq"
      },
      "execution_count": null,
      "outputs": []
    },
    {
      "cell_type": "code",
      "source": [
        "L2 = [43, 64, 746, 644, 646]\n",
        "\n",
        "print(L.extend(L2))"
      ],
      "metadata": {
        "colab": {
          "base_uri": "https://localhost:8080/"
        },
        "id": "4luZc7pGh0jh",
        "outputId": "5598314b-d915-4d52-86ba-3439f3ad99fb"
      },
      "execution_count": null,
      "outputs": [
        {
          "output_type": "stream",
          "name": "stdout",
          "text": [
            "None\n"
          ]
        }
      ]
    },
    {
      "cell_type": "code",
      "source": [
        "print(L)"
      ],
      "metadata": {
        "colab": {
          "base_uri": "https://localhost:8080/"
        },
        "id": "DLuifcjwiFRI",
        "outputId": "2362113f-e2e4-435a-c2e6-0d7fe1662c67"
      },
      "execution_count": null,
      "outputs": [
        {
          "output_type": "stream",
          "name": "stdout",
          "text": [
            "[3,2,5,4,6]\n"
          ]
        }
      ]
    },
    {
      "cell_type": "code",
      "source": [
        "L[-6]"
      ],
      "metadata": {
        "colab": {
          "base_uri": "https://localhost:8080/",
          "height": 35
        },
        "id": "6yP08fmQiKIv",
        "outputId": "9604a81d-e77b-4d7b-cbb7-e7784cd86501"
      },
      "execution_count": null,
      "outputs": [
        {
          "output_type": "execute_result",
          "data": {
            "text/plain": [
              "'IndexError - Index out of range'"
            ],
            "application/vnd.google.colaboratory.intrinsic+json": {
              "type": "string"
            }
          },
          "metadata": {},
          "execution_count": 88
        }
      ]
    },
    {
      "cell_type": "code",
      "source": [
        "L.min()\n",
        "L[-2]"
      ],
      "metadata": {
        "colab": {
          "base_uri": "https://localhost:8080/"
        },
        "id": "NJppk3fkIZoF",
        "outputId": "65d416a6-8dba-418f-af79-366223a64585"
      },
      "execution_count": null,
      "outputs": [
        {
          "output_type": "execute_result",
          "data": {
            "text/plain": [
              "5"
            ]
          },
          "metadata": {},
          "execution_count": 70
        }
      ]
    },
    {
      "cell_type": "code",
      "source": [
        "L.max()"
      ],
      "metadata": {
        "colab": {
          "base_uri": "https://localhost:8080/"
        },
        "id": "H9_eOnnxWxls",
        "outputId": "cd7d7d03-d7be-42ce-f71f-707f68689b42"
      },
      "execution_count": null,
      "outputs": [
        {
          "output_type": "execute_result",
          "data": {
            "text/plain": [
              "6"
            ]
          },
          "metadata": {},
          "execution_count": 54
        }
      ]
    },
    {
      "cell_type": "code",
      "source": [
        "L.sort()"
      ],
      "metadata": {
        "id": "kXiS46UeaIKx",
        "colab": {
          "base_uri": "https://localhost:8080/"
        },
        "outputId": "fd03cf0d-cf9c-40d3-98f4-5da53f04ba5b"
      },
      "execution_count": null,
      "outputs": [
        {
          "output_type": "execute_result",
          "data": {
            "text/plain": [
              "[2, 3, 4, 5, 6]"
            ]
          },
          "metadata": {},
          "execution_count": 55
        }
      ]
    },
    {
      "cell_type": "code",
      "source": [
        "L.sum()"
      ],
      "metadata": {
        "colab": {
          "base_uri": "https://localhost:8080/"
        },
        "id": "8QlQL6bKmpOd",
        "outputId": "8a75c8e5-1e7b-49d6-8057-40adc9528654"
      },
      "execution_count": null,
      "outputs": [
        {
          "output_type": "execute_result",
          "data": {
            "text/plain": [
              "20"
            ]
          },
          "metadata": {},
          "execution_count": 56
        }
      ]
    },
    {
      "cell_type": "code",
      "source": [
        "L.insert(3,'why')"
      ],
      "metadata": {
        "id": "KIo1GuNulXU1"
      },
      "execution_count": null,
      "outputs": []
    },
    {
      "cell_type": "code",
      "source": [
        "print(L)"
      ],
      "metadata": {
        "colab": {
          "base_uri": "https://localhost:8080/"
        },
        "id": "nnVKedW0-d1T",
        "outputId": "63a2f028-f63e-460a-9100-f8baff5bebcc"
      },
      "execution_count": null,
      "outputs": [
        {
          "output_type": "stream",
          "name": "stdout",
          "text": [
            "[2,3,4,why,5,6]\n"
          ]
        }
      ]
    },
    {
      "cell_type": "code",
      "source": [
        "L.index(2)\n",
        "L.index(65)"
      ],
      "metadata": {
        "colab": {
          "base_uri": "https://localhost:8080/"
        },
        "id": "kldGcGqmfIuq",
        "outputId": "a576707f-9785-44e0-d48c-1cd0edc88ec0"
      },
      "execution_count": null,
      "outputs": [
        {
          "output_type": "stream",
          "name": "stdout",
          "text": [
            "4\n",
            "Out of range\n"
          ]
        }
      ]
    },
    {
      "cell_type": "code",
      "source": [
        "L[-2]"
      ],
      "metadata": {
        "colab": {
          "base_uri": "https://localhost:8080/"
        },
        "id": "a8zPiElMfPy3",
        "outputId": "0f547429-3cb6-4a11-96f9-e987f87129c6"
      },
      "execution_count": null,
      "outputs": [
        {
          "output_type": "execute_result",
          "data": {
            "text/plain": [
              "4"
            ]
          },
          "metadata": {},
          "execution_count": 69
        }
      ]
    },
    {
      "cell_type": "code",
      "source": [
        "print(L)"
      ],
      "metadata": {
        "id": "QMZl2wjjbCnT",
        "outputId": "f0bb55ae-d0ef-4bd7-801b-1af0aef8a035",
        "colab": {
          "base_uri": "https://localhost:8080/"
        }
      },
      "execution_count": null,
      "outputs": [
        {
          "output_type": "stream",
          "name": "stdout",
          "text": [
            "[hello,me,True,4.3,100]\n"
          ]
        }
      ]
    },
    {
      "cell_type": "code",
      "source": [
        "print(L[2])\n",
        "print(L[15])"
      ],
      "metadata": {
        "colab": {
          "base_uri": "https://localhost:8080/"
        },
        "id": "GuZXJBq2abdZ",
        "outputId": "98ae71e4-0629-4339-9636-c23f29489799"
      },
      "execution_count": null,
      "outputs": [
        {
          "output_type": "stream",
          "name": "stdout",
          "text": [
            "True\n",
            "IndexError - Index out of range\n"
          ]
        }
      ]
    },
    {
      "cell_type": "code",
      "source": [
        "L.pop()"
      ],
      "metadata": {
        "id": "R4-TP7btavFI",
        "colab": {
          "base_uri": "https://localhost:8080/"
        },
        "outputId": "5642584d-d3f7-40af-ab87-cc60f53ab319"
      },
      "execution_count": null,
      "outputs": [
        {
          "output_type": "stream",
          "name": "stdout",
          "text": [
            "100\n"
          ]
        }
      ]
    },
    {
      "cell_type": "code",
      "source": [
        "print(L)"
      ],
      "metadata": {
        "id": "Mz1sHVQMmhpI",
        "colab": {
          "base_uri": "https://localhost:8080/"
        },
        "outputId": "c0b9b1a7-bc85-4eb1-addc-f7ab0fdac9fc"
      },
      "execution_count": null,
      "outputs": [
        {
          "output_type": "stream",
          "name": "stdout",
          "text": [
            "[hello,me,True,4.3]\n"
          ]
        }
      ]
    },
    {
      "cell_type": "code",
      "source": [
        "L.clear()"
      ],
      "metadata": {
        "id": "fGdBRr7EZDc0"
      },
      "execution_count": null,
      "outputs": []
    },
    {
      "cell_type": "code",
      "source": [
        "L.index(2)"
      ],
      "metadata": {
        "colab": {
          "base_uri": "https://localhost:8080/"
        },
        "id": "-yumpwJoaZ-G",
        "outputId": "0ce2a546-e176-4ae4-82d6-88829f361df6"
      },
      "execution_count": null,
      "outputs": [
        {
          "output_type": "stream",
          "name": "stdout",
          "text": [
            "True\n"
          ]
        }
      ]
    },
    {
      "cell_type": "code",
      "source": [
        "print(L)"
      ],
      "metadata": {
        "colab": {
          "base_uri": "https://localhost:8080/"
        },
        "id": "6FnbyTlVbESl",
        "outputId": "96a3e274-169d-4f30-92e4-07483d6e469e"
      },
      "execution_count": null,
      "outputs": [
        {
          "output_type": "stream",
          "name": "stdout",
          "text": [
            "[hello,me]\n"
          ]
        }
      ]
    },
    {
      "cell_type": "markdown",
      "source": [
        "# Factorial with recurson"
      ],
      "metadata": {
        "id": "PcQHbtQVrMf-"
      }
    },
    {
      "cell_type": "code",
      "source": [
        "def fact_rec(n):\n",
        "  if n == 1:\n",
        "    return n\n",
        "  else:\n",
        "    return n*fact_rec(n-1)\n",
        "\n",
        "print(fact_rec(5))"
      ],
      "metadata": {
        "colab": {
          "base_uri": "https://localhost:8080/"
        },
        "id": "SmffUBumspdI",
        "outputId": "0b95dbec-97b8-48ab-9fbf-897c2b6c4b0d"
      },
      "execution_count": null,
      "outputs": [
        {
          "output_type": "stream",
          "name": "stdout",
          "text": [
            "120\n"
          ]
        }
      ]
    },
    {
      "cell_type": "markdown",
      "source": [
        "# Fibonacci series"
      ],
      "metadata": {
        "id": "HJWH15Uh0VL3"
      }
    },
    {
      "cell_type": "code",
      "source": [
        "def fabo(n):\n",
        "  pass"
      ],
      "metadata": {
        "id": "FoDFha1k0Ti6"
      },
      "execution_count": null,
      "outputs": []
    },
    {
      "cell_type": "code",
      "source": [],
      "metadata": {
        "id": "nGJgbNgosSEZ"
      },
      "execution_count": null,
      "outputs": []
    },
    {
      "cell_type": "code",
      "source": [],
      "metadata": {
        "id": "7HAfso263Ulh"
      },
      "execution_count": null,
      "outputs": []
    },
    {
      "cell_type": "markdown",
      "source": [
        "Yes, there are Python libraries that allow you to style or decorate QR codes. One popular library that provides customization options for QR codes is `qrcode` in combination with the `Pillow` library. Here's how you can use these libraries to create styled QR codes:\n",
        "\n",
        "First, if you haven't already installed these libraries, you can install them via pip:\n",
        "\n",
        "```bash\n",
        "pip install qrcode[pil]\n",
        "```\n",
        "\n",
        "Then, you can use `qrcode` to generate the QR code and `Pillow` (Python Imaging Library) to add some styling. Here's a simple example:\n",
        "\n",
        "```python\n",
        "import qrcode\n",
        "from PIL import Image, ImageDraw\n",
        "\n",
        "# Generate QR code\n",
        "qr = qrcode.QRCode(\n",
        "    version=1,\n",
        "    error_correction=qrcode.constants.ERROR_CORRECT_H,\n",
        "    box_size=10,\n",
        "    border=4,\n",
        ")\n",
        "qr.add_data(\"https://www.example.com\")  # Replace this URL with your dynamic URL\n",
        "qr.make(fit=True)\n",
        "\n",
        "img = qr.make_image(fill_color=\"black\", back_color=\"white\")\n",
        "\n",
        "# Open the QR code as an Image\n",
        "img = img.convert('RGB')\n",
        "width, height = img.size\n",
        "\n",
        "# Create a Pillow ImageDraw object\n",
        "draw = ImageDraw.Draw(img)\n",
        "\n",
        "# Add some decoration or styling\n",
        "# For example, draw a circle around the QR code\n",
        "draw.ellipse((10, 10, width - 10, height - 10), outline=\"blue\")\n",
        "\n",
        "img.show()  # Display the styled QR code\n",
        "img.save(\"styled_qr_code.png\")  # Save the styled QR code as an image\n",
        "```\n",
        "\n",
        "This code will create a basic QR code with a white background and black squares, and it will add a blue circle around the QR code. You can modify and add more styling as per your requirement by utilizing the various functionalities provided by the `Pillow` library.\n",
        "\n",
        "Remember, styling and decoration options might be limited as QR codes have specific standards for readability. So, while you can add some customization, it's important to ensure that the QR code remains scannable and doesn't interfere with its readability by scanners."
      ],
      "metadata": {
        "id": "DQH1Aze5SfIV"
      }
    },
    {
      "cell_type": "markdown",
      "source": [
        "# Assignments"
      ],
      "metadata": {
        "id": "5jePRX34Z5Ws"
      }
    },
    {
      "cell_type": "markdown",
      "source": [
        "## Assignment - 1   List and Array"
      ],
      "metadata": {
        "id": "KH4IQ2zmZ8wX"
      }
    },
    {
      "cell_type": "markdown",
      "source": [
        "1) Write array and sort it."
      ],
      "metadata": {
        "id": "xAvz1DxsaUO8"
      }
    },
    {
      "cell_type": "code",
      "source": [
        "from array import array\n",
        "\n",
        "arr1 = array('i', [2, 4, 1, 6, 5, 8, 7])\n",
        "\n",
        "for i in range(0, len(arr1)):\n",
        "    for j in range(i+1, len(arr1)):\n",
        "        if arr1[i] >= arr1[j]:\n",
        "            arr1[i], arr1[j] = arr1[j], arr1[i]\n",
        "\n",
        "print(arr1)"
      ],
      "metadata": {
        "id": "E0q2RzyVBZQr",
        "colab": {
          "base_uri": "https://localhost:8080/"
        },
        "outputId": "222494b1-a5a5-434c-ab0b-2a0c6afeab0b"
      },
      "execution_count": null,
      "outputs": [
        {
          "output_type": "stream",
          "name": "stdout",
          "text": [
            "array('i', [1, 2, 4, 5, 6, 7, 8])\n"
          ]
        }
      ]
    },
    {
      "cell_type": "markdown",
      "source": [
        "2) given lis of herogenues element and remove all non int value from list"
      ],
      "metadata": {
        "id": "AF4tsiCZal-s"
      }
    },
    {
      "cell_type": "code",
      "source": [
        "list1 = ['1', 2, 'er', 2.4, 6, 'df', True, 65, 23, 'rt', 53]\n",
        "list2 = []\n",
        "for i in list1:\n",
        "    if type(i) == int:\n",
        "        list2.append(i)\n",
        "\n",
        "print(list2)"
      ],
      "metadata": {
        "id": "Pt5OnqQ_0tcs",
        "colab": {
          "base_uri": "https://localhost:8080/"
        },
        "outputId": "289ab616-3c12-433f-9b7b-90dc3a175981"
      },
      "execution_count": null,
      "outputs": [
        {
          "output_type": "stream",
          "name": "stdout",
          "text": [
            "[2, 6, 65, 23, 53]\n"
          ]
        }
      ]
    },
    {
      "cell_type": "markdown",
      "source": [
        "3) Prime number series till n"
      ],
      "metadata": {
        "id": "IbGkuxpXasVp"
      }
    },
    {
      "cell_type": "code",
      "source": [
        "def primeNumber(num):\n",
        "    prime_list = []\n",
        "    for nu in range(0, num + 1):\n",
        "       # all prime numbers are greater than 1\n",
        "       if nu > 1:\n",
        "           for i in range(2, nu):\n",
        "               if (nu % i) == 0:\n",
        "                   break\n",
        "           else:\n",
        "               prime_list.append(nu)\n",
        "\n",
        "    return prime_list\n",
        "\n",
        "pr = primeNumber(51)\n",
        "print(pr)"
      ],
      "metadata": {
        "colab": {
          "base_uri": "https://localhost:8080/"
        },
        "id": "pCxPnAaDaprH",
        "outputId": "58d631cd-fff1-4aa3-b006-8c90acb76f29"
      },
      "execution_count": null,
      "outputs": [
        {
          "output_type": "stream",
          "name": "stdout",
          "text": [
            "[2, 3, 5, 7, 11, 13, 17, 19, 23, 29, 31, 37, 41, 43, 47]\n"
          ]
        }
      ]
    },
    {
      "cell_type": "markdown",
      "source": [
        "## Assignment 2 :- Classes and object"
      ],
      "metadata": {
        "id": "xPKDVnLdbmGF"
      }
    },
    {
      "cell_type": "markdown",
      "source": [
        "1) Define a python class Person with instance object variable name and age. Set Instance object variables in __init__() method. Also define show()method to display name and age of person"
      ],
      "metadata": {
        "id": "5fs0T6kVbqoL"
      }
    },
    {
      "cell_type": "code",
      "source": [
        "class Person:\n",
        "    def __init__(self, name, age):\n",
        "        self.name = name.title()\n",
        "        self.age = age\n",
        "\n",
        "    def show(self):\n",
        "        print(f\"Name of Person is {self.name} and age of person is {self.age}\")\n",
        "\n",
        "\n",
        "pr = Person(\"nayan\", 20)\n",
        "\n",
        "pr.show()"
      ],
      "metadata": {
        "colab": {
          "base_uri": "https://localhost:8080/"
        },
        "id": "Greit5IEawbF",
        "outputId": "d720919d-b0e1-422c-e546-7d518a305490"
      },
      "execution_count": null,
      "outputs": [
        {
          "output_type": "stream",
          "name": "stdout",
          "text": [
            "Name of Person is Nayan and age of person is 20\n"
          ]
        }
      ]
    },
    {
      "cell_type": "markdown",
      "source": [
        "In Python, getters and setters are not the same as those in other object-oriented programming languages. Basically, the main purpose of using getters and setters in object-oriented programs is to ensure data encapsulation. Private variables in python are not actually hidden fields like in other object oriented languages. Getters and Setters in python are often used when:\n",
        "\n",
        "We use getters & setters to add validation logic around getting and setting a value.\n",
        "To avoid direct access of a class field i.e. private variables cannot be accessed directly or modified by external user.\n",
        "Using normal function to achieve getters and setters behaviour\n",
        "\n",
        "To achieve getters & setters property, if we define normal get() and set() methods it will not reflect any special implementation."
      ],
      "metadata": {
        "id": "Grap7SiqkG6d"
      }
    },
    {
      "cell_type": "code",
      "source": [
        "class Circle:\n",
        "\n",
        "  # getter method\n",
        "  def get_radius(self):\n",
        "    return self.__radius\n",
        "\n",
        "  # setter method\n",
        "  def set_radius(self, x):\n",
        "    self.__radius = x\n",
        "\n",
        "  def getArea(self):\n",
        "    area_circle = 3.141*(self.__radius*self.__radius)\n",
        "    return area_circle\n",
        "\n",
        "  def getCricumference(self):\n",
        "    area_circum = 2*3.141*self.__radius\n",
        "    return area_circum\n",
        "\n",
        "\n",
        "circle = Circle()\n",
        "circle.set_radius(23)\n",
        "print(circle.getArea())\n",
        "print(circle.getCricumference())\n"
      ],
      "metadata": {
        "colab": {
          "base_uri": "https://localhost:8080/"
        },
        "id": "vM3PcBwSbwBs",
        "outputId": "30a2eaf3-7c6d-44d1-a6b7-3ed1758af2a3"
      },
      "execution_count": null,
      "outputs": [
        {
          "output_type": "stream",
          "name": "stdout",
          "text": [
            "1661.589\n",
            "144.486\n"
          ]
        }
      ]
    },
    {
      "cell_type": "markdown",
      "source": [
        "Define a class Rectangle with lenght and breadth as instance object variables. Provide setDimensions(), showDimensions() and getArea() method in it."
      ],
      "metadata": {
        "id": "F7dyb5jbkYVn"
      }
    },
    {
      "cell_type": "markdown",
      "source": [
        "\n",
        " Exciting News: Introducing My Latest Project - Movie Recommendation System!\n",
        "\n",
        "Hey LinkedIn fam,\n",
        "\n",
        "I'm thrilled to share that I've been working on an exciting new project - a Movie Recommendation System!\n",
        "\n",
        "In this project, users have the power to:\n",
        "<ul>\n",
        "<li>Add new movies to the system\n",
        "<li>Update movie details\n",
        "<li>Delete movies they no longer need\n",
        "<li>Personalize their movie recommendations\n",
        "</ul>\n",
        "Whether you're a film enthusiast or just looking for your next movie night pick, this system is designed to make your experience seamless and tailored to your preferences. User engagement is at the heart of this project, and I can't wait for you to try it out!\n",
        "\n",
        "Key Features:\n",
        "<ul>\n",
        "<li>Add New Movies: Contribute to the ever-growing database by adding your favorite films.\n",
        "<li> Update Movie Details: Keep information accurate and up-to-date.\n",
        "<li>Delete Movies: Manage your movie list effortlessly.\n",
        "<li>Personalized Recommendations:** Discover new movies based on your preferences.\n",
        "\n",
        "</ul>\n",
        "\n",
        "Thank you for your support! Let's make movie nights even more enjoyable together!\n",
        "\n",
        " # #MovieRecommendations #NewProject #TechInnovation #LinkedInFamily\n"
      ],
      "metadata": {
        "id": "LjQc6bw_7UYb"
      }
    },
    {
      "cell_type": "code",
      "source": [
        "class Rectangle:\n",
        "  def __init__(self, length, breadth):\n",
        "    self.length = length\n",
        "    self.breadth = breadth\n",
        "\n"
      ],
      "metadata": {
        "id": "nkYCW8OOhasu"
      },
      "execution_count": null,
      "outputs": []
    },
    {
      "cell_type": "markdown",
      "source": [
        "**Subject: Enhancing Ekka - My Contribution and Vision**\n",
        "\n",
        "Dear Sir,\n",
        "\n",
        "I hope this message finds you well. I recently had the opportunity to explore Ekka's platform and create my portfolio, and I'm excited about the potential it holds. Here are my observations and how I believe I can contribute to making Ekka even better:\n",
        "\n",
        "**Observations:**\n",
        "\n",
        "1. **User Onboarding:**\n",
        "   - While creating my account, I found the sign-up process straightforward. However, I believe a landing page explaining Ekka's features could enhance user understanding, making the platform more accessible for new users.\n",
        "\n",
        "2. **Portfolio Creation:**\n",
        "   - The portfolio creation process is intuitive, and I appreciate the flexibility to add text, images, links, and headings easily. However, I encountered an issue where, if a text section is accidentally removed, there's currently no option to undo the action, requiring users to recreate the section.\n",
        "\n",
        "3. **Unique Feature - Selling Digital Products:**\n",
        "   - The \"sell digital product\" feature is intriguing and could be a game-changer for users. I successfully set up a product to sell, but there seems to be a loophole where any URL can be added as a UPI ID. This might need further validation to ensure security and accuracy.\n",
        "\n",
        "**How I Can Help:**\n",
        "\n",
        "While I understand Ekka specifically seeks Python and Django expertise, my proficiency extends to HTML, CSS, and backend development in Django. Here's how I envision contributing:\n",
        "\n",
        "- **User Experience Enhancement:**\n",
        "  - I can collaborate on creating a user-friendly landing page that effectively communicates Ekka's features, enhancing the onboarding experience.\n",
        "\n",
        "- **Undo Functionality in Portfolio Editing:**\n",
        "  - I can contribute to refining the portfolio creation process by implementing an undo functionality, providing users with more control and ease of use.\n",
        "\n",
        "- **Security and Validation in Digital Product Selling:**\n",
        "  - My experience in web development allows me to contribute to ensuring the security and accuracy of the \"sell digital product\" feature by implementing robust validation mechanisms.\n",
        "\n",
        "I am genuinely enthusiastic about the prospect of contributing to Ekka's growth and success. I am confident that my skills and experiences align well with Ekka's goals, and I am eager to bring a fresh perspective to the team.\n",
        "\n",
        "Thank you for considering my insights, and I look forward to the possibility of contributing to Ekka's journey.\n",
        "\n",
        "Best regards,\n",
        "\n",
        "**Nayan Bebale**<br>\n",
        "**nayanbebale2003@gmail.com**<br>\n",
        "**/in/nayan-bebale-63a62923a/**<br>\n",
        "**https://github.com/Nayan-Bebale/**<br>"
      ],
      "metadata": {
        "id": "lZKapE7Om_0-"
      }
    },
    {
      "cell_type": "markdown",
      "source": [
        "## Assignment - 3 Singly Linked List"
      ],
      "metadata": {
        "id": "7j-gCz2ZdBS-"
      }
    },
    {
      "cell_type": "code",
      "source": [
        "import ctypes"
      ],
      "metadata": {
        "id": "fFsquo0chwCf"
      },
      "execution_count": null,
      "outputs": []
    },
    {
      "cell_type": "code",
      "source": [
        "class Node:\n",
        "  def __init__(self, item=None, next=None):\n",
        "    self.item = item\n",
        "    self.next = next\n",
        "\n",
        "class SSL:\n",
        "  def __init__(self):\n",
        "    self.start = None\n",
        "\n",
        "  def is_empty(self):\n",
        "    check = self.start\n",
        "    if check == None:\n",
        "      print(None)\n",
        "\n",
        "  def insert_at_start(self, item):\n",
        "    n = Node(item, self.start)\n",
        "    self.start = n\n",
        "\n",
        "  def insert_at_end(self,item):\n",
        "    n = Node(item)\n",
        "    if not self.is_empty():\n",
        "      temp = self.start\n",
        "      while temp.next is not None:\n",
        "        temp = temp.next\n",
        "      temp.next = n\n",
        "    else:\n",
        "      self.start = n\n",
        "\n",
        "  def search(self, item):\n",
        "    temp = self.start\n",
        "    while temp is not None:\n",
        "      if temp.item == item:\n",
        "        return temp\n",
        "      temp=temp.next\n",
        "    return None\n",
        "\n",
        "  def insert_after(self,temp,item):\n",
        "    if temp is not None:\n",
        "      n=Node(item,temp.next)\n",
        "      temp.next=n\n",
        "\n",
        "  def print_list(self):\n",
        "    temp = self.start\n",
        "    while temp is not None:\n",
        "      print(temp.item, end=\" \")\n",
        "      temp = temp.next\n",
        "\n",
        "  def delete_first(self):\n",
        "    if self.start is not None:\n",
        "      self.start=self.start.next\n",
        "  def delete_last(self):\n",
        "    if self.start is None:\n",
        "      pass\n",
        "    elif self.start.next is None:\n",
        "      self.start=None\n",
        "    else:\n",
        "      temp=self.start\n",
        "      while temp.next.next is not None:\n",
        "        temp=temp.next\n",
        "\n",
        "\n"
      ],
      "metadata": {
        "id": "_lNsdnoKdA3U"
      },
      "execution_count": null,
      "outputs": []
    },
    {
      "cell_type": "code",
      "source": [
        "ssl = SSL()\n",
        "ssl.is_empty()"
      ],
      "metadata": {
        "id": "aUQvQumQnAux",
        "colab": {
          "base_uri": "https://localhost:8080/"
        },
        "outputId": "fd0e2ae2-0d8c-42cc-a906-2268fd74e4e5"
      },
      "execution_count": null,
      "outputs": [
        {
          "output_type": "stream",
          "name": "stdout",
          "text": [
            "None\n"
          ]
        }
      ]
    },
    {
      "cell_type": "code",
      "source": [
        "ssl.insert_at_start(23)"
      ],
      "metadata": {
        "id": "opwKJiNBhNMv"
      },
      "execution_count": null,
      "outputs": []
    },
    {
      "cell_type": "code",
      "source": [
        "ssl.print_list()"
      ],
      "metadata": {
        "colab": {
          "base_uri": "https://localhost:8080/"
        },
        "id": "xhr6w3mtsN4E",
        "outputId": "c5f92a9b-61ba-460f-f1f3-72d3d59fb47c"
      },
      "execution_count": null,
      "outputs": [
        {
          "output_type": "stream",
          "name": "stdout",
          "text": [
            "23 "
          ]
        }
      ]
    },
    {
      "cell_type": "code",
      "source": [
        "ssl.insert_after(ssl.search(23), 32)\n",
        "ssl.insert_at_end(78)\n",
        "ssl.insert_at_start(89)\n",
        "ssl.insert_at_end(90)"
      ],
      "metadata": {
        "id": "7N0lxLaCWLFZ"
      },
      "execution_count": null,
      "outputs": []
    },
    {
      "cell_type": "code",
      "source": [
        "ssl.print_list()"
      ],
      "metadata": {
        "colab": {
          "base_uri": "https://localhost:8080/"
        },
        "id": "eeTGQU1QQyx9",
        "outputId": "64486ebb-9888-40af-83fa-faa8603ca193"
      },
      "execution_count": null,
      "outputs": [
        {
          "output_type": "stream",
          "name": "stdout",
          "text": [
            "89 23 32 78 90 "
          ]
        }
      ]
    },
    {
      "cell_type": "markdown",
      "source": [
        "### Binary Search"
      ],
      "metadata": {
        "id": "iUHMgD07WmY-"
      }
    },
    {
      "cell_type": "code",
      "source": [
        "arr = [2, 5, 6, 7, 8, 9, 10, 23, 56, 76, 88, 89, 93, 94, 98, 100]\n",
        "search = 100\n",
        "\n",
        "\n",
        "mid = len(arr)//2\n",
        "mid_point = arr[mid]\n",
        "\n",
        "if search > mid_point:\n",
        "  start = mid\n",
        "  end = len(arr)-1\n",
        "elif search < mid_point:\n",
        "  start = 0\n",
        "  end = mid\n",
        "if search == mid_point:\n",
        "  print(mid_point)\n",
        "else:\n",
        "  for i in range(start, end+1):\n",
        "    if arr[i] == search:\n",
        "      print(arr[i])\n",
        "      break"
      ],
      "metadata": {
        "id": "U03wcVT_Pycn",
        "colab": {
          "base_uri": "https://localhost:8080/"
        },
        "outputId": "e470c099-add2-4326-b169-d93b5af774b8"
      },
      "execution_count": null,
      "outputs": [
        {
          "output_type": "stream",
          "name": "stdout",
          "text": [
            "100\n"
          ]
        }
      ]
    },
    {
      "cell_type": "code",
      "source": [
        "max(7, 12)"
      ],
      "metadata": {
        "colab": {
          "base_uri": "https://localhost:8080/"
        },
        "id": "-JXIGGoBQs8t",
        "outputId": "479366c4-cd5d-4471-cfbc-e9e697c90c7e"
      },
      "execution_count": null,
      "outputs": [
        {
          "output_type": "execute_result",
          "data": {
            "text/plain": [
              "12"
            ]
          },
          "metadata": {},
          "execution_count": 20
        }
      ]
    },
    {
      "cell_type": "code",
      "source": [
        "def findMaxNumRec(sampleArray, n):\n",
        "  if n == 1:\n",
        "    return sampleArray[0]\n",
        "  return max(sampleArray[n-1], findMaxNumRec(sampleArray, n-1))\n",
        "\n",
        "findMaxNumRec([11, 4, 12, 7, 2], 5)"
      ],
      "metadata": {
        "colab": {
          "base_uri": "https://localhost:8080/"
        },
        "id": "_cwh9dwUZdiV",
        "outputId": "36ec2c2e-9d67-48f0-db79-d37b717b6e9a"
      },
      "execution_count": null,
      "outputs": [
        {
          "output_type": "execute_result",
          "data": {
            "text/plain": [
              "12"
            ]
          },
          "metadata": {},
          "execution_count": 33
        }
      ]
    },
    {
      "cell_type": "code",
      "source": [],
      "metadata": {
        "id": "LrBCzb1IaOsJ"
      },
      "execution_count": null,
      "outputs": []
    }
  ]
}